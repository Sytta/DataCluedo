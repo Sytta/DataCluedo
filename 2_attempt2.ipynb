{
 "cells": [
  {
   "cell_type": "markdown",
   "metadata": {},
   "source": [
    "# SALES OF A COMPANY\n",
    "# TASK:\n",
    "Rank order the datasets from the **weakest to the strongest dependency** between the time and average sales."
   ]
  },
  {
   "cell_type": "code",
   "execution_count": null,
   "metadata": {},
   "outputs": [],
   "source": [
    "# Run the following to import necessary packages and import dataset you used in your first attempt. Do not use any additional plotting libraries.\n",
    "import pandas as pd\n",
    "import numpy as np\n",
    "from IPython.core.interactiveshell import InteractiveShell\n",
    "InteractiveShell.ast_node_interactivity = \"all\"\n",
    "import matplotlib\n",
    "import matplotlib.pyplot as plt\n",
    "%matplotlib inline\n",
    "matplotlib.style.use('ggplot')\n",
    "\n",
    "dA = \"AQ_problem-solving-task_datasetA.csv\"\n",
    "dB = \"AQ_problem-solving-task_datasetB.csv\"\n",
    "dC = \"AQ_problem-solving-task_datasetC.csv\"\n",
    "\n",
    "dfA = pd.read_csv(dA)\n",
    "dfB = pd.read_csv(dB)\n",
    "dfC = pd.read_csv(dC)\n",
    "dfA.head(n=5)"
   ]
  },
  {
   "cell_type": "markdown",
   "metadata": {},
   "source": [
    "# CLUE: \n",
    "**Matplotlib has a handy function to generate 2-D histogram: https://matplotlib.org/api/_as_gen/matplotlib.pyplot.hist2d.html.**\n",
    "If this clue changes your answer and reasoning from the first attempt, try again below. Otherwise, if you are confident in your answer from your first attempt, leave the following untouched."
   ]
  },
  {
   "cell_type": "code",
   "execution_count": null,
   "metadata": {},
   "outputs": [],
   "source": [
    "#Show your revised analysis below.\n",
    "#Round all your statistics to 2 decimal places before reasoning with them!!\n",
    "\n",
    "dataset_dependency_ordering_revised = \"Write your ordering of datasets here\"\n",
    "dataset_dependency_ordering_revised_reasoning = \"Write your reasoning here\"  "
   ]
  },
  {
   "cell_type": "code",
   "execution_count": null,
   "metadata": {},
   "outputs": [],
   "source": [
    "#If you need to implement any piece of code before finalizing your answer and reasoning, use this space. Don't erase your code segment from the workbook. \n",
    "#In case you need any help with syntax, documentation file for the:\n",
    "#a) pandas library - https://pandas.pydata.org/pandas-docs/stable/\n",
    "#b) numpy library  - https://docs.scipy.org/doc/numpy/user/index.html\n",
    "#c) matplotlib library - https://matplotlib.org/contents.html\n",
    "# DO NOT USE GOOGLE SEARCH!!!\n",
    "...\n",
    "...\n",
    "..."
   ]
  }
 ],
 "metadata": {},
 "nbformat": 4,
 "nbformat_minor": 2
}
